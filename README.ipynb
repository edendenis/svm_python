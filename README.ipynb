{
 "cells": [
  {
   "cell_type": "markdown",
   "metadata": {},
   "source": [
    "# Support Vector Machine (SVM)\n",
    "\n",
    "[![DOI](https://zenodo.org/badge/758315494.svg)](https://zenodo.org/doi/10.5281/zenodo.10668998)\n"
   ]
  },
  {
   "cell_type": "markdown",
   "metadata": {},
   "source": [
    "## Resumo\n",
    "\n",
    "A aplicação de computação para Support Vector Machine (SVM) é um poderoso algoritmo de aprendizado supervisionado usado para tarefas de classificação e regressão. Ele encontra o hiperplano ideal que separa os dados em classes com a margem máxima, tornando-o eficaz para dados de alta dimensão e limites não lineares.\n",
    "\n",
    "## _Abstract_\n",
    "\n",
    "_Computation application for the Support Vector Machine (SVM) is a powerful supervised learning algorithm used for classification and regression tasks. It finds the optimal hyperplane that separates data into classes with the maximum margin, making it effective for high-dimensional data and nonlinear boundaries._"
   ]
  },
  {
   "cell_type": "markdown",
   "metadata": {},
   "source": [
    "## Revisão(ões)/Versão(ões)\n",
    "\n",
    "| Revisão número | Data da revisão | Descrição da revisão                                    | Autor da revisão                                |\n",
    "|:--------------:|:---------------:|:--------------------------------------------------------|:------------------------------------------------|\n",
    "| 0              | 16/09/2022      | <ul><li>Revisão inicial/criação do documento.</li></ul> | <ul><li>Eden Denis F. da S. L. Santos</li></ul> |\n",
    "| 1              | 24/02/2024      | <ul><li>Incluído o DOI.</li></ul> | <ul><li>Eden Denis F. da S. L. Santos</li></ul> |\n"
   ]
  },
  {
   "cell_type": "markdown",
   "metadata": {},
   "source": [
    "## 1. Como executar a aplicação\n",
    "\n",
    "1. Abrir o arquivo `main_<nome_da_aplicacao>.ipynb` o qual está com comentários, alterar o banco de dados (existem exemplos de bancos de dados) na pasta que deverá ser utilizado para a execução e executar todas as células. \n",
    "    \n",
    "    Perceber que o <nome_da_aplicacao> trata-se, redudantemente, do nome da aplicação. Coloquei desta forma, pois quis, por ora, generalizar o arquivo `README.md` para poder criar o repositório de cada uma das aplicações que desenvolvi ao longo da minha carreira."
   ]
  },
  {
   "cell_type": "markdown",
   "metadata": {},
   "source": [
    "## Referências\n",
    "\n",
    "[1] RICIERI, A. P. ***Curso de big data de lousa***. Prandiano - Museu da Matemática, São Paulo, 2018.\n",
    "\n",
    "[2] BAUMAN, Z. ***Liquid modernity***. Polity Press, 2000. ISBN 0745624103.\n",
    "\n",
    "[3] ANDERBERG, M. R.. ***Cluster analysis for applications***. 1973.\n",
    "\n",
    "[4] KIUSALAAS, J.. ***Numerical methods in engineering with python***. 2nd ed. edição, 2010.\n",
    "\n",
    "[5] LANGTANGEN, H. P.. ***Python scripting for computational science***. Berlin Heidelberg, 3th ed. edição, 2009.\n",
    "\n",
    "[6] MCKINNEY, W.. ***Python para análise de dados: tratamento de dados com pandas, numpy e ipython***. São Paulo, 1a ed. edição, 2018.\n",
    "\n",
    "[7] TEAM, W. M. P. D.. ***Pandas: powerful python data analysis toolkit***. 2018.\n",
    "\n",
    "[8] RAMALHO, L.. ***Python fluente***. São Paulo, 1a ed. edição, 2018.\n",
    "\n",
    "[9] GRUS, J.. ***Data science do zero***. Rio de Janeiro, 1a ed. edição, 2009.\n",
    "\n",
    "103] COMMUNITY. ***Scipy.cluster.hierarchy.dendrogram***. Disponível em: <https://docs.scipy.org/doc/scipy/reference/generated/scipy.cluster.hierarchy.dendrogram.html>. Acessado em: 2018-\n"
   ]
  }
 ],
 "metadata": {
  "kernelspec": {
   "display_name": "Python 3 (ipykernel)",
   "language": "python",
   "name": "python3"
  },
  "language_info": {
   "codemirror_mode": {
    "name": "ipython",
    "version": 3
   },
   "file_extension": ".py",
   "mimetype": "text/x-python",
   "name": "python",
   "nbconvert_exporter": "python",
   "pygments_lexer": "ipython3",
   "version": "3.11.7"
  }
 },
 "nbformat": 4,
 "nbformat_minor": 2
}
